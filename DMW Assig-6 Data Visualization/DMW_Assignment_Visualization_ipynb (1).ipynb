{
  "nbformat": 4,
  "nbformat_minor": 0,
  "metadata": {
    "colab": {
      "provenance": []
    },
    "kernelspec": {
      "name": "python3",
      "display_name": "Python 3"
    },
    "language_info": {
      "name": "python"
    }
  },
  "cells": [
    {
      "cell_type": "code",
      "execution_count": null,
      "metadata": {
        "id": "N9fsnXiZ1b4S"
      },
      "outputs": [],
      "source": []
    },
    {
      "cell_type": "markdown",
      "source": [
        "**Importing the Packages**"
      ],
      "metadata": {
        "id": "6oZ1nlM31uPS"
      }
    },
    {
      "cell_type": "code",
      "source": [
        "import pandas as pd\n",
        "import seaborn as sns\n",
        "import numpy as np\n",
        "import matplotlib.pyplot as plt"
      ],
      "metadata": {
        "id": "0Ful-f0-1rUA"
      },
      "execution_count": 1,
      "outputs": []
    },
    {
      "cell_type": "markdown",
      "source": [],
      "metadata": {
        "id": "CP6YdOyc11r7"
      }
    },
    {
      "cell_type": "markdown",
      "source": [
        "**Importing the Data**"
      ],
      "metadata": {
        "id": "MwYm4OM6Zfj8"
      }
    },
    {
      "cell_type": "markdown",
      "source": [],
      "metadata": {
        "id": "mW8vagj52S_l"
      }
    },
    {
      "cell_type": "code",
      "source": [
        "df=pd.read_excel('Pizza Sales.xlsx')"
      ],
      "metadata": {
        "id": "q9rtnNul1wYf"
      },
      "execution_count": 2,
      "outputs": []
    },
    {
      "cell_type": "code",
      "source": [
        "df"
      ],
      "metadata": {
        "colab": {
          "base_uri": "https://localhost:8080/",
          "height": 641
        },
        "id": "67zjIhWq2GD8",
        "outputId": "1984dc82-be50-4d36-c36c-45ba8bc25633"
      },
      "execution_count": 3,
      "outputs": [
        {
          "output_type": "execute_result",
          "data": {
            "text/plain": [
              "     order_details_id  order_id       pizza_id  quantity order_date  \\\n",
              "0                   1         1     hawaiian_m         1 2015-01-01   \n",
              "1                   2         2  classic_dlx_m         1 2015-01-01   \n",
              "2                   3         2  five_cheese_l         1 2015-01-01   \n",
              "3                   4         2    ital_supr_l         1 2015-01-01   \n",
              "4                   5         2     mexicana_m         1 2015-01-01   \n",
              "..                ...       ...            ...       ...        ...   \n",
              "495               496       212  ital_cpcllo_l         1 2015-01-04   \n",
              "496               497       213  four_cheese_l         1 2015-01-04   \n",
              "497               498       214  ital_cpcllo_l         1 2015-01-04   \n",
              "498               499       214    ital_supr_m         1 2015-01-04   \n",
              "499               500       214     mexicana_s         1 2015-01-04   \n",
              "\n",
              "    order_time  unit_price  total_price pizza_size pizza_category  \\\n",
              "0     11:38:36       13.25        13.25          M        Classic   \n",
              "1     11:57:40       16.00        16.00          M        Classic   \n",
              "2     11:57:40       18.50        18.50          L         Veggie   \n",
              "3     11:57:40       20.75        20.75          L        Supreme   \n",
              "4     11:57:40       16.00        16.00          M         Veggie   \n",
              "..         ...         ...          ...        ...            ...   \n",
              "495   13:16:03       20.50        20.50          L        Classic   \n",
              "496   13:20:39       17.95        17.95          L         Veggie   \n",
              "497   13:39:16       20.50        20.50          L        Classic   \n",
              "498   13:39:16       16.50        16.50          M        Supreme   \n",
              "499   13:39:16       12.00        12.00          S         Veggie   \n",
              "\n",
              "                                     pizza_ingredients  \\\n",
              "0             Sliced Ham, Pineapple, Mozzarella Cheese   \n",
              "1    Pepperoni, Mushrooms, Red Onions, Red Peppers,...   \n",
              "2    Mozzarella Cheese, Provolone Cheese, Smoked Go...   \n",
              "3    Calabrese Salami, Capocollo, Tomatoes, Red Oni...   \n",
              "4    Tomatoes, Red Peppers, Jalapeno Peppers, Red O...   \n",
              "..                                                 ...   \n",
              "495  Capocollo, Red Peppers, Tomatoes, Goat Cheese,...   \n",
              "496  Ricotta Cheese, Gorgonzola Piccante Cheese, Mo...   \n",
              "497  Capocollo, Red Peppers, Tomatoes, Goat Cheese,...   \n",
              "498  Calabrese Salami, Capocollo, Tomatoes, Red Oni...   \n",
              "499  Tomatoes, Red Peppers, Jalapeno Peppers, Red O...   \n",
              "\n",
              "                      pizza_name  \n",
              "0             The Hawaiian Pizza  \n",
              "1       The Classic Deluxe Pizza  \n",
              "2          The Five Cheese Pizza  \n",
              "3      The Italian Supreme Pizza  \n",
              "4             The Mexicana Pizza  \n",
              "..                           ...  \n",
              "495  The Italian Capocollo Pizza  \n",
              "496        The Four Cheese Pizza  \n",
              "497  The Italian Capocollo Pizza  \n",
              "498    The Italian Supreme Pizza  \n",
              "499           The Mexicana Pizza  \n",
              "\n",
              "[500 rows x 12 columns]"
            ],
            "text/html": [
              "\n",
              "  <div id=\"df-27bdea5d-7878-4c53-af39-4097c0d762a4\">\n",
              "    <div class=\"colab-df-container\">\n",
              "      <div>\n",
              "<style scoped>\n",
              "    .dataframe tbody tr th:only-of-type {\n",
              "        vertical-align: middle;\n",
              "    }\n",
              "\n",
              "    .dataframe tbody tr th {\n",
              "        vertical-align: top;\n",
              "    }\n",
              "\n",
              "    .dataframe thead th {\n",
              "        text-align: right;\n",
              "    }\n",
              "</style>\n",
              "<table border=\"1\" class=\"dataframe\">\n",
              "  <thead>\n",
              "    <tr style=\"text-align: right;\">\n",
              "      <th></th>\n",
              "      <th>order_details_id</th>\n",
              "      <th>order_id</th>\n",
              "      <th>pizza_id</th>\n",
              "      <th>quantity</th>\n",
              "      <th>order_date</th>\n",
              "      <th>order_time</th>\n",
              "      <th>unit_price</th>\n",
              "      <th>total_price</th>\n",
              "      <th>pizza_size</th>\n",
              "      <th>pizza_category</th>\n",
              "      <th>pizza_ingredients</th>\n",
              "      <th>pizza_name</th>\n",
              "    </tr>\n",
              "  </thead>\n",
              "  <tbody>\n",
              "    <tr>\n",
              "      <th>0</th>\n",
              "      <td>1</td>\n",
              "      <td>1</td>\n",
              "      <td>hawaiian_m</td>\n",
              "      <td>1</td>\n",
              "      <td>2015-01-01</td>\n",
              "      <td>11:38:36</td>\n",
              "      <td>13.25</td>\n",
              "      <td>13.25</td>\n",
              "      <td>M</td>\n",
              "      <td>Classic</td>\n",
              "      <td>Sliced Ham, Pineapple, Mozzarella Cheese</td>\n",
              "      <td>The Hawaiian Pizza</td>\n",
              "    </tr>\n",
              "    <tr>\n",
              "      <th>1</th>\n",
              "      <td>2</td>\n",
              "      <td>2</td>\n",
              "      <td>classic_dlx_m</td>\n",
              "      <td>1</td>\n",
              "      <td>2015-01-01</td>\n",
              "      <td>11:57:40</td>\n",
              "      <td>16.00</td>\n",
              "      <td>16.00</td>\n",
              "      <td>M</td>\n",
              "      <td>Classic</td>\n",
              "      <td>Pepperoni, Mushrooms, Red Onions, Red Peppers,...</td>\n",
              "      <td>The Classic Deluxe Pizza</td>\n",
              "    </tr>\n",
              "    <tr>\n",
              "      <th>2</th>\n",
              "      <td>3</td>\n",
              "      <td>2</td>\n",
              "      <td>five_cheese_l</td>\n",
              "      <td>1</td>\n",
              "      <td>2015-01-01</td>\n",
              "      <td>11:57:40</td>\n",
              "      <td>18.50</td>\n",
              "      <td>18.50</td>\n",
              "      <td>L</td>\n",
              "      <td>Veggie</td>\n",
              "      <td>Mozzarella Cheese, Provolone Cheese, Smoked Go...</td>\n",
              "      <td>The Five Cheese Pizza</td>\n",
              "    </tr>\n",
              "    <tr>\n",
              "      <th>3</th>\n",
              "      <td>4</td>\n",
              "      <td>2</td>\n",
              "      <td>ital_supr_l</td>\n",
              "      <td>1</td>\n",
              "      <td>2015-01-01</td>\n",
              "      <td>11:57:40</td>\n",
              "      <td>20.75</td>\n",
              "      <td>20.75</td>\n",
              "      <td>L</td>\n",
              "      <td>Supreme</td>\n",
              "      <td>Calabrese Salami, Capocollo, Tomatoes, Red Oni...</td>\n",
              "      <td>The Italian Supreme Pizza</td>\n",
              "    </tr>\n",
              "    <tr>\n",
              "      <th>4</th>\n",
              "      <td>5</td>\n",
              "      <td>2</td>\n",
              "      <td>mexicana_m</td>\n",
              "      <td>1</td>\n",
              "      <td>2015-01-01</td>\n",
              "      <td>11:57:40</td>\n",
              "      <td>16.00</td>\n",
              "      <td>16.00</td>\n",
              "      <td>M</td>\n",
              "      <td>Veggie</td>\n",
              "      <td>Tomatoes, Red Peppers, Jalapeno Peppers, Red O...</td>\n",
              "      <td>The Mexicana Pizza</td>\n",
              "    </tr>\n",
              "    <tr>\n",
              "      <th>...</th>\n",
              "      <td>...</td>\n",
              "      <td>...</td>\n",
              "      <td>...</td>\n",
              "      <td>...</td>\n",
              "      <td>...</td>\n",
              "      <td>...</td>\n",
              "      <td>...</td>\n",
              "      <td>...</td>\n",
              "      <td>...</td>\n",
              "      <td>...</td>\n",
              "      <td>...</td>\n",
              "      <td>...</td>\n",
              "    </tr>\n",
              "    <tr>\n",
              "      <th>495</th>\n",
              "      <td>496</td>\n",
              "      <td>212</td>\n",
              "      <td>ital_cpcllo_l</td>\n",
              "      <td>1</td>\n",
              "      <td>2015-01-04</td>\n",
              "      <td>13:16:03</td>\n",
              "      <td>20.50</td>\n",
              "      <td>20.50</td>\n",
              "      <td>L</td>\n",
              "      <td>Classic</td>\n",
              "      <td>Capocollo, Red Peppers, Tomatoes, Goat Cheese,...</td>\n",
              "      <td>The Italian Capocollo Pizza</td>\n",
              "    </tr>\n",
              "    <tr>\n",
              "      <th>496</th>\n",
              "      <td>497</td>\n",
              "      <td>213</td>\n",
              "      <td>four_cheese_l</td>\n",
              "      <td>1</td>\n",
              "      <td>2015-01-04</td>\n",
              "      <td>13:20:39</td>\n",
              "      <td>17.95</td>\n",
              "      <td>17.95</td>\n",
              "      <td>L</td>\n",
              "      <td>Veggie</td>\n",
              "      <td>Ricotta Cheese, Gorgonzola Piccante Cheese, Mo...</td>\n",
              "      <td>The Four Cheese Pizza</td>\n",
              "    </tr>\n",
              "    <tr>\n",
              "      <th>497</th>\n",
              "      <td>498</td>\n",
              "      <td>214</td>\n",
              "      <td>ital_cpcllo_l</td>\n",
              "      <td>1</td>\n",
              "      <td>2015-01-04</td>\n",
              "      <td>13:39:16</td>\n",
              "      <td>20.50</td>\n",
              "      <td>20.50</td>\n",
              "      <td>L</td>\n",
              "      <td>Classic</td>\n",
              "      <td>Capocollo, Red Peppers, Tomatoes, Goat Cheese,...</td>\n",
              "      <td>The Italian Capocollo Pizza</td>\n",
              "    </tr>\n",
              "    <tr>\n",
              "      <th>498</th>\n",
              "      <td>499</td>\n",
              "      <td>214</td>\n",
              "      <td>ital_supr_m</td>\n",
              "      <td>1</td>\n",
              "      <td>2015-01-04</td>\n",
              "      <td>13:39:16</td>\n",
              "      <td>16.50</td>\n",
              "      <td>16.50</td>\n",
              "      <td>M</td>\n",
              "      <td>Supreme</td>\n",
              "      <td>Calabrese Salami, Capocollo, Tomatoes, Red Oni...</td>\n",
              "      <td>The Italian Supreme Pizza</td>\n",
              "    </tr>\n",
              "    <tr>\n",
              "      <th>499</th>\n",
              "      <td>500</td>\n",
              "      <td>214</td>\n",
              "      <td>mexicana_s</td>\n",
              "      <td>1</td>\n",
              "      <td>2015-01-04</td>\n",
              "      <td>13:39:16</td>\n",
              "      <td>12.00</td>\n",
              "      <td>12.00</td>\n",
              "      <td>S</td>\n",
              "      <td>Veggie</td>\n",
              "      <td>Tomatoes, Red Peppers, Jalapeno Peppers, Red O...</td>\n",
              "      <td>The Mexicana Pizza</td>\n",
              "    </tr>\n",
              "  </tbody>\n",
              "</table>\n",
              "<p>500 rows × 12 columns</p>\n",
              "</div>\n",
              "      <button class=\"colab-df-convert\" onclick=\"convertToInteractive('df-27bdea5d-7878-4c53-af39-4097c0d762a4')\"\n",
              "              title=\"Convert this dataframe to an interactive table.\"\n",
              "              style=\"display:none;\">\n",
              "        \n",
              "  <svg xmlns=\"http://www.w3.org/2000/svg\" height=\"24px\"viewBox=\"0 0 24 24\"\n",
              "       width=\"24px\">\n",
              "    <path d=\"M0 0h24v24H0V0z\" fill=\"none\"/>\n",
              "    <path d=\"M18.56 5.44l.94 2.06.94-2.06 2.06-.94-2.06-.94-.94-2.06-.94 2.06-2.06.94zm-11 1L8.5 8.5l.94-2.06 2.06-.94-2.06-.94L8.5 2.5l-.94 2.06-2.06.94zm10 10l.94 2.06.94-2.06 2.06-.94-2.06-.94-.94-2.06-.94 2.06-2.06.94z\"/><path d=\"M17.41 7.96l-1.37-1.37c-.4-.4-.92-.59-1.43-.59-.52 0-1.04.2-1.43.59L10.3 9.45l-7.72 7.72c-.78.78-.78 2.05 0 2.83L4 21.41c.39.39.9.59 1.41.59.51 0 1.02-.2 1.41-.59l7.78-7.78 2.81-2.81c.8-.78.8-2.07 0-2.86zM5.41 20L4 18.59l7.72-7.72 1.47 1.35L5.41 20z\"/>\n",
              "  </svg>\n",
              "      </button>\n",
              "      \n",
              "  <style>\n",
              "    .colab-df-container {\n",
              "      display:flex;\n",
              "      flex-wrap:wrap;\n",
              "      gap: 12px;\n",
              "    }\n",
              "\n",
              "    .colab-df-convert {\n",
              "      background-color: #E8F0FE;\n",
              "      border: none;\n",
              "      border-radius: 50%;\n",
              "      cursor: pointer;\n",
              "      display: none;\n",
              "      fill: #1967D2;\n",
              "      height: 32px;\n",
              "      padding: 0 0 0 0;\n",
              "      width: 32px;\n",
              "    }\n",
              "\n",
              "    .colab-df-convert:hover {\n",
              "      background-color: #E2EBFA;\n",
              "      box-shadow: 0px 1px 2px rgba(60, 64, 67, 0.3), 0px 1px 3px 1px rgba(60, 64, 67, 0.15);\n",
              "      fill: #174EA6;\n",
              "    }\n",
              "\n",
              "    [theme=dark] .colab-df-convert {\n",
              "      background-color: #3B4455;\n",
              "      fill: #D2E3FC;\n",
              "    }\n",
              "\n",
              "    [theme=dark] .colab-df-convert:hover {\n",
              "      background-color: #434B5C;\n",
              "      box-shadow: 0px 1px 3px 1px rgba(0, 0, 0, 0.15);\n",
              "      filter: drop-shadow(0px 1px 2px rgba(0, 0, 0, 0.3));\n",
              "      fill: #FFFFFF;\n",
              "    }\n",
              "  </style>\n",
              "\n",
              "      <script>\n",
              "        const buttonEl =\n",
              "          document.querySelector('#df-27bdea5d-7878-4c53-af39-4097c0d762a4 button.colab-df-convert');\n",
              "        buttonEl.style.display =\n",
              "          google.colab.kernel.accessAllowed ? 'block' : 'none';\n",
              "\n",
              "        async function convertToInteractive(key) {\n",
              "          const element = document.querySelector('#df-27bdea5d-7878-4c53-af39-4097c0d762a4');\n",
              "          const dataTable =\n",
              "            await google.colab.kernel.invokeFunction('convertToInteractive',\n",
              "                                                     [key], {});\n",
              "          if (!dataTable) return;\n",
              "\n",
              "          const docLinkHtml = 'Like what you see? Visit the ' +\n",
              "            '<a target=\"_blank\" href=https://colab.research.google.com/notebooks/data_table.ipynb>data table notebook</a>'\n",
              "            + ' to learn more about interactive tables.';\n",
              "          element.innerHTML = '';\n",
              "          dataTable['output_type'] = 'display_data';\n",
              "          await google.colab.output.renderOutput(dataTable, element);\n",
              "          const docLink = document.createElement('div');\n",
              "          docLink.innerHTML = docLinkHtml;\n",
              "          element.appendChild(docLink);\n",
              "        }\n",
              "      </script>\n",
              "    </div>\n",
              "  </div>\n",
              "  "
            ]
          },
          "metadata": {},
          "execution_count": 3
        }
      ]
    },
    {
      "cell_type": "code",
      "source": [
        "df.head()\n"
      ],
      "metadata": {
        "colab": {
          "base_uri": "https://localhost:8080/",
          "height": 337
        },
        "id": "oTlt9bra2tO5",
        "outputId": "484755dc-e17f-4a17-a888-14572c9e45fc"
      },
      "execution_count": 4,
      "outputs": [
        {
          "output_type": "execute_result",
          "data": {
            "text/plain": [
              "   order_details_id  order_id       pizza_id  quantity order_date order_time  \\\n",
              "0                 1         1     hawaiian_m         1 2015-01-01   11:38:36   \n",
              "1                 2         2  classic_dlx_m         1 2015-01-01   11:57:40   \n",
              "2                 3         2  five_cheese_l         1 2015-01-01   11:57:40   \n",
              "3                 4         2    ital_supr_l         1 2015-01-01   11:57:40   \n",
              "4                 5         2     mexicana_m         1 2015-01-01   11:57:40   \n",
              "\n",
              "   unit_price  total_price pizza_size pizza_category  \\\n",
              "0       13.25        13.25          M        Classic   \n",
              "1       16.00        16.00          M        Classic   \n",
              "2       18.50        18.50          L         Veggie   \n",
              "3       20.75        20.75          L        Supreme   \n",
              "4       16.00        16.00          M         Veggie   \n",
              "\n",
              "                                   pizza_ingredients  \\\n",
              "0           Sliced Ham, Pineapple, Mozzarella Cheese   \n",
              "1  Pepperoni, Mushrooms, Red Onions, Red Peppers,...   \n",
              "2  Mozzarella Cheese, Provolone Cheese, Smoked Go...   \n",
              "3  Calabrese Salami, Capocollo, Tomatoes, Red Oni...   \n",
              "4  Tomatoes, Red Peppers, Jalapeno Peppers, Red O...   \n",
              "\n",
              "                  pizza_name  \n",
              "0         The Hawaiian Pizza  \n",
              "1   The Classic Deluxe Pizza  \n",
              "2      The Five Cheese Pizza  \n",
              "3  The Italian Supreme Pizza  \n",
              "4         The Mexicana Pizza  "
            ],
            "text/html": [
              "\n",
              "  <div id=\"df-c096eea8-7817-4979-b5b2-d438d4cfe454\">\n",
              "    <div class=\"colab-df-container\">\n",
              "      <div>\n",
              "<style scoped>\n",
              "    .dataframe tbody tr th:only-of-type {\n",
              "        vertical-align: middle;\n",
              "    }\n",
              "\n",
              "    .dataframe tbody tr th {\n",
              "        vertical-align: top;\n",
              "    }\n",
              "\n",
              "    .dataframe thead th {\n",
              "        text-align: right;\n",
              "    }\n",
              "</style>\n",
              "<table border=\"1\" class=\"dataframe\">\n",
              "  <thead>\n",
              "    <tr style=\"text-align: right;\">\n",
              "      <th></th>\n",
              "      <th>order_details_id</th>\n",
              "      <th>order_id</th>\n",
              "      <th>pizza_id</th>\n",
              "      <th>quantity</th>\n",
              "      <th>order_date</th>\n",
              "      <th>order_time</th>\n",
              "      <th>unit_price</th>\n",
              "      <th>total_price</th>\n",
              "      <th>pizza_size</th>\n",
              "      <th>pizza_category</th>\n",
              "      <th>pizza_ingredients</th>\n",
              "      <th>pizza_name</th>\n",
              "    </tr>\n",
              "  </thead>\n",
              "  <tbody>\n",
              "    <tr>\n",
              "      <th>0</th>\n",
              "      <td>1</td>\n",
              "      <td>1</td>\n",
              "      <td>hawaiian_m</td>\n",
              "      <td>1</td>\n",
              "      <td>2015-01-01</td>\n",
              "      <td>11:38:36</td>\n",
              "      <td>13.25</td>\n",
              "      <td>13.25</td>\n",
              "      <td>M</td>\n",
              "      <td>Classic</td>\n",
              "      <td>Sliced Ham, Pineapple, Mozzarella Cheese</td>\n",
              "      <td>The Hawaiian Pizza</td>\n",
              "    </tr>\n",
              "    <tr>\n",
              "      <th>1</th>\n",
              "      <td>2</td>\n",
              "      <td>2</td>\n",
              "      <td>classic_dlx_m</td>\n",
              "      <td>1</td>\n",
              "      <td>2015-01-01</td>\n",
              "      <td>11:57:40</td>\n",
              "      <td>16.00</td>\n",
              "      <td>16.00</td>\n",
              "      <td>M</td>\n",
              "      <td>Classic</td>\n",
              "      <td>Pepperoni, Mushrooms, Red Onions, Red Peppers,...</td>\n",
              "      <td>The Classic Deluxe Pizza</td>\n",
              "    </tr>\n",
              "    <tr>\n",
              "      <th>2</th>\n",
              "      <td>3</td>\n",
              "      <td>2</td>\n",
              "      <td>five_cheese_l</td>\n",
              "      <td>1</td>\n",
              "      <td>2015-01-01</td>\n",
              "      <td>11:57:40</td>\n",
              "      <td>18.50</td>\n",
              "      <td>18.50</td>\n",
              "      <td>L</td>\n",
              "      <td>Veggie</td>\n",
              "      <td>Mozzarella Cheese, Provolone Cheese, Smoked Go...</td>\n",
              "      <td>The Five Cheese Pizza</td>\n",
              "    </tr>\n",
              "    <tr>\n",
              "      <th>3</th>\n",
              "      <td>4</td>\n",
              "      <td>2</td>\n",
              "      <td>ital_supr_l</td>\n",
              "      <td>1</td>\n",
              "      <td>2015-01-01</td>\n",
              "      <td>11:57:40</td>\n",
              "      <td>20.75</td>\n",
              "      <td>20.75</td>\n",
              "      <td>L</td>\n",
              "      <td>Supreme</td>\n",
              "      <td>Calabrese Salami, Capocollo, Tomatoes, Red Oni...</td>\n",
              "      <td>The Italian Supreme Pizza</td>\n",
              "    </tr>\n",
              "    <tr>\n",
              "      <th>4</th>\n",
              "      <td>5</td>\n",
              "      <td>2</td>\n",
              "      <td>mexicana_m</td>\n",
              "      <td>1</td>\n",
              "      <td>2015-01-01</td>\n",
              "      <td>11:57:40</td>\n",
              "      <td>16.00</td>\n",
              "      <td>16.00</td>\n",
              "      <td>M</td>\n",
              "      <td>Veggie</td>\n",
              "      <td>Tomatoes, Red Peppers, Jalapeno Peppers, Red O...</td>\n",
              "      <td>The Mexicana Pizza</td>\n",
              "    </tr>\n",
              "  </tbody>\n",
              "</table>\n",
              "</div>\n",
              "      <button class=\"colab-df-convert\" onclick=\"convertToInteractive('df-c096eea8-7817-4979-b5b2-d438d4cfe454')\"\n",
              "              title=\"Convert this dataframe to an interactive table.\"\n",
              "              style=\"display:none;\">\n",
              "        \n",
              "  <svg xmlns=\"http://www.w3.org/2000/svg\" height=\"24px\"viewBox=\"0 0 24 24\"\n",
              "       width=\"24px\">\n",
              "    <path d=\"M0 0h24v24H0V0z\" fill=\"none\"/>\n",
              "    <path d=\"M18.56 5.44l.94 2.06.94-2.06 2.06-.94-2.06-.94-.94-2.06-.94 2.06-2.06.94zm-11 1L8.5 8.5l.94-2.06 2.06-.94-2.06-.94L8.5 2.5l-.94 2.06-2.06.94zm10 10l.94 2.06.94-2.06 2.06-.94-2.06-.94-.94-2.06-.94 2.06-2.06.94z\"/><path d=\"M17.41 7.96l-1.37-1.37c-.4-.4-.92-.59-1.43-.59-.52 0-1.04.2-1.43.59L10.3 9.45l-7.72 7.72c-.78.78-.78 2.05 0 2.83L4 21.41c.39.39.9.59 1.41.59.51 0 1.02-.2 1.41-.59l7.78-7.78 2.81-2.81c.8-.78.8-2.07 0-2.86zM5.41 20L4 18.59l7.72-7.72 1.47 1.35L5.41 20z\"/>\n",
              "  </svg>\n",
              "      </button>\n",
              "      \n",
              "  <style>\n",
              "    .colab-df-container {\n",
              "      display:flex;\n",
              "      flex-wrap:wrap;\n",
              "      gap: 12px;\n",
              "    }\n",
              "\n",
              "    .colab-df-convert {\n",
              "      background-color: #E8F0FE;\n",
              "      border: none;\n",
              "      border-radius: 50%;\n",
              "      cursor: pointer;\n",
              "      display: none;\n",
              "      fill: #1967D2;\n",
              "      height: 32px;\n",
              "      padding: 0 0 0 0;\n",
              "      width: 32px;\n",
              "    }\n",
              "\n",
              "    .colab-df-convert:hover {\n",
              "      background-color: #E2EBFA;\n",
              "      box-shadow: 0px 1px 2px rgba(60, 64, 67, 0.3), 0px 1px 3px 1px rgba(60, 64, 67, 0.15);\n",
              "      fill: #174EA6;\n",
              "    }\n",
              "\n",
              "    [theme=dark] .colab-df-convert {\n",
              "      background-color: #3B4455;\n",
              "      fill: #D2E3FC;\n",
              "    }\n",
              "\n",
              "    [theme=dark] .colab-df-convert:hover {\n",
              "      background-color: #434B5C;\n",
              "      box-shadow: 0px 1px 3px 1px rgba(0, 0, 0, 0.15);\n",
              "      filter: drop-shadow(0px 1px 2px rgba(0, 0, 0, 0.3));\n",
              "      fill: #FFFFFF;\n",
              "    }\n",
              "  </style>\n",
              "\n",
              "      <script>\n",
              "        const buttonEl =\n",
              "          document.querySelector('#df-c096eea8-7817-4979-b5b2-d438d4cfe454 button.colab-df-convert');\n",
              "        buttonEl.style.display =\n",
              "          google.colab.kernel.accessAllowed ? 'block' : 'none';\n",
              "\n",
              "        async function convertToInteractive(key) {\n",
              "          const element = document.querySelector('#df-c096eea8-7817-4979-b5b2-d438d4cfe454');\n",
              "          const dataTable =\n",
              "            await google.colab.kernel.invokeFunction('convertToInteractive',\n",
              "                                                     [key], {});\n",
              "          if (!dataTable) return;\n",
              "\n",
              "          const docLinkHtml = 'Like what you see? Visit the ' +\n",
              "            '<a target=\"_blank\" href=https://colab.research.google.com/notebooks/data_table.ipynb>data table notebook</a>'\n",
              "            + ' to learn more about interactive tables.';\n",
              "          element.innerHTML = '';\n",
              "          dataTable['output_type'] = 'display_data';\n",
              "          await google.colab.output.renderOutput(dataTable, element);\n",
              "          const docLink = document.createElement('div');\n",
              "          docLink.innerHTML = docLinkHtml;\n",
              "          element.appendChild(docLink);\n",
              "        }\n",
              "      </script>\n",
              "    </div>\n",
              "  </div>\n",
              "  "
            ]
          },
          "metadata": {},
          "execution_count": 4
        }
      ]
    },
    {
      "cell_type": "code",
      "source": [
        "df.info()"
      ],
      "metadata": {
        "colab": {
          "base_uri": "https://localhost:8080/"
        },
        "id": "Y090-YY520Ir",
        "outputId": "80844bbf-c6ef-49ba-b311-0105baf081eb"
      },
      "execution_count": 5,
      "outputs": [
        {
          "output_type": "stream",
          "name": "stdout",
          "text": [
            "<class 'pandas.core.frame.DataFrame'>\n",
            "RangeIndex: 500 entries, 0 to 499\n",
            "Data columns (total 12 columns):\n",
            " #   Column             Non-Null Count  Dtype         \n",
            "---  ------             --------------  -----         \n",
            " 0   order_details_id   500 non-null    int64         \n",
            " 1   order_id           500 non-null    int64         \n",
            " 2   pizza_id           500 non-null    object        \n",
            " 3   quantity           500 non-null    int64         \n",
            " 4   order_date         500 non-null    datetime64[ns]\n",
            " 5   order_time         500 non-null    object        \n",
            " 6   unit_price         500 non-null    float64       \n",
            " 7   total_price        500 non-null    float64       \n",
            " 8   pizza_size         500 non-null    object        \n",
            " 9   pizza_category     500 non-null    object        \n",
            " 10  pizza_ingredients  500 non-null    object        \n",
            " 11  pizza_name         500 non-null    object        \n",
            "dtypes: datetime64[ns](1), float64(2), int64(3), object(6)\n",
            "memory usage: 47.0+ KB\n"
          ]
        }
      ]
    },
    {
      "cell_type": "code",
      "source": [
        "for i in df.columns:\n",
        "    print(i+' :'+str(df[i].nunique()))"
      ],
      "metadata": {
        "colab": {
          "base_uri": "https://localhost:8080/"
        },
        "id": "8G9hxzJH26sf",
        "outputId": "e630d2c3-8418-476d-c510-c09efa215589"
      },
      "execution_count": 6,
      "outputs": [
        {
          "output_type": "stream",
          "name": "stdout",
          "text": [
            "order_details_id :500\n",
            "order_id :214\n",
            "pizza_id :85\n",
            "quantity :3\n",
            "order_date :4\n",
            "order_time :214\n",
            "unit_price :24\n",
            "total_price :29\n",
            "pizza_size :4\n",
            "pizza_category :4\n",
            "pizza_ingredients :32\n",
            "pizza_name :32\n"
          ]
        }
      ]
    },
    {
      "cell_type": "code",
      "source": [
        "Topcategory=df.groupby(df['pizza_category'])['order_id'].agg([\"count\"]).reset_index()\n",
        "print(Topcategory)"
      ],
      "metadata": {
        "colab": {
          "base_uri": "https://localhost:8080/"
        },
        "id": "v4-uIym02-Vp",
        "outputId": "289c5b6a-b7ba-46bc-fe34-cc58ee044e5c"
      },
      "execution_count": 7,
      "outputs": [
        {
          "output_type": "stream",
          "name": "stdout",
          "text": [
            "  pizza_category  count\n",
            "0        Chicken    113\n",
            "1        Classic    156\n",
            "2        Supreme    119\n",
            "3         Veggie    112\n"
          ]
        }
      ]
    },
    {
      "cell_type": "code",
      "source": [
        "graph=sns.barplot(x='pizza_category',y='count',data=Topcategory)\n",
        "graph.set_title('MOST SELLING CATEGORY')"
      ],
      "metadata": {
        "colab": {
          "base_uri": "https://localhost:8080/",
          "height": 314
        },
        "id": "ZT0YfR7Q3AgM",
        "outputId": "e9c3a788-a233-49b9-9aee-8ea4e819dbac"
      },
      "execution_count": 8,
      "outputs": [
        {
          "output_type": "execute_result",
          "data": {
            "text/plain": [
              "Text(0.5, 1.0, 'MOST SELLING CATEGORY')"
            ]
          },
          "metadata": {},
          "execution_count": 8
        },
        {
          "output_type": "display_data",
          "data": {
            "text/plain": [
              "<Figure size 432x288 with 1 Axes>"
            ],
            "image/png": "[encoded data removed]"
          },
          "metadata": {
            "needs_background": "light"
          }
        }
      ]
    },
    {
      "cell_type": "code",
      "source": [
        "MostOrderedPizza=df.groupby(\"pizza_name\")[\"order_id\"].agg([\"count\"]).sort_values(by=\"count\",ascending=False).reset_index()\n",
        "print(MostOrderedPizza)"
      ],
      "metadata": {
        "colab": {
          "base_uri": "https://localhost:8080/"
        },
        "id": "k7HoC2gE3D2d",
        "outputId": "4e5729ee-8422-4e9d-ef42-91bca4f4d613"
      },
      "execution_count": 9,
      "outputs": [
        {
          "output_type": "stream",
          "name": "stdout",
          "text": [
            "                                    pizza_name  count\n",
            "0                          The Pepperoni Pizza     29\n",
            "1                    The Italian Supreme Pizza     28\n",
            "2                       The Thai Chicken Pizza     27\n",
            "3                   The Barbecue Chicken Pizza     26\n",
            "4                 The California Chicken Pizza     24\n",
            "5                           The Hawaiian Pizza     21\n",
            "6                      The Spicy Italian Pizza     21\n",
            "7                     The Classic Deluxe Pizza     21\n",
            "8                           The Big Meat Pizza     20\n",
            "9                  The Italian Capocollo Pizza     20\n",
            "10                             The Greek Pizza     20\n",
            "11                          The Mexicana Pizza     19\n",
            "12                 The Southwest Chicken Pizza     18\n",
            "13                          The Sicilian Pizza     17\n",
            "14                       The Five Cheese Pizza     17\n",
            "15                       The Four Cheese Pizza     17\n",
            "16            The Prosciutto and Arugula Pizza     16\n",
            "17                   The Spinach Supreme Pizza     15\n",
            "18           The Vegetables + Vegetables Pizza     15\n",
            "19                        The Napolitana Pizza     15\n",
            "20                     The Pepper Salami Pizza     13\n",
            "21  The Pepperoni, Mushroom, and Peppers Pizza     10\n",
            "22                The Italian Vegetables Pizza     10\n",
            "23                     The Spinach Pesto Pizza     10\n",
            "24                      The Green Garden Pizza      9\n",
            "25                     The Chicken Pesto Pizza      9\n",
            "26                   The Chicken Alfredo Pizza      9\n",
            "27                  The Spinach and Feta Pizza      9\n",
            "28                       The Soppressata Pizza      6\n",
            "29                     The Mediterranean Pizza      6\n",
            "30                         The Calabrese Pizza      2\n",
            "31                        The Brie Carre Pizza      1\n"
          ]
        }
      ]
    },
    {
      "cell_type": "code",
      "source": [
        "plt.figure(figsize=(15,8))\n",
        "graph=sns.barplot(x='pizza_name',y='count',palette=\"rocket\",data=MostOrderedPizza)\n",
        "graph.set_title('MOST SELLING Pizza')\n",
        "plt.xticks(rotation=90)"
      ],
      "metadata": {
        "colab": {
          "base_uri": "https://localhost:8080/",
          "height": 783
        },
        "id": "DD2sH1FK3IpJ",
        "outputId": "a805ff53-6e7c-4ec9-8b8a-d0a16dfcde13"
      },
      "execution_count": 10,
      "outputs": [
        {
          "output_type": "execute_result",
          "data": {
            "text/plain": [
              "(array([ 0,  1,  2,  3,  4,  5,  6,  7,  8,  9, 10, 11, 12, 13, 14, 15, 16,\n",
              "        17, 18, 19, 20, 21, 22, 23, 24, 25, 26, 27, 28, 29, 30, 31]),\n",
              " <a list of 32 Text major ticklabel objects>)"
            ]
          },
          "metadata": {},
          "execution_count": 10
        },
        {
          "output_type": "display_data",
          "data": {
            "text/plain": [
              "<Figure size 1080x576 with 1 Axes>"
            ],
            "image/png": "[encoded data removed]"
          },
          "metadata": {
            "needs_background": "light"
          }
        }
      ]
    },
    {
      "cell_type": "code",
      "source": [
        "MostOrderedPizza=df.groupby(\"pizza_size\")[\"order_id\"].agg([\"count\"]).sort_values(by=\"count\",ascending=False).reset_index()\n",
        "print(MostOrderedPizza)"
      ],
      "metadata": {
        "colab": {
          "base_uri": "https://localhost:8080/"
        },
        "id": "yfh_GpkI3M01",
        "outputId": "3a447870-a277-4667-d74b-a9ef1dfbf10e"
      },
      "execution_count": 11,
      "outputs": [
        {
          "output_type": "stream",
          "name": "stdout",
          "text": [
            "  pizza_size  count\n",
            "0          L    217\n",
            "1          M    140\n",
            "2          S    137\n",
            "3         XL      6\n"
          ]
        }
      ]
    },
    {
      "cell_type": "code",
      "source": [
        "graph=sns.lineplot(x='pizza_size',y='count',palette=\"rocket\",data=MostOrderedPizza)\n",
        "graph.set_title('MOST SELLING Pizza')"
      ],
      "metadata": {
        "colab": {
          "base_uri": "https://localhost:8080/",
          "height": 314
        },
        "id": "YYg1fLfX3Pzl",
        "outputId": "a07aed37-dd8d-4945-a9f9-4cd0f2a9c718"
      },
      "execution_count": 12,
      "outputs": [
        {
          "output_type": "execute_result",
          "data": {
            "text/plain": [
              "Text(0.5, 1.0, 'MOST SELLING Pizza')"
            ]
          },
          "metadata": {},
          "execution_count": 12
        },
        {
          "output_type": "display_data",
          "data": {
            "text/plain": [
              "<Figure size 432x288 with 1 Axes>"
            ],
            "image/png": "[encoded data removed]"
          },
          "metadata": {
            "needs_background": "light"
          }
        }
      ]
    },
    {
      "cell_type": "code",
      "source": [
        "MostOrderedPizza=df.groupby(\"unit_price\")[\"order_id\"].agg([\"count\"]).sort_values(by=\"count\",ascending=False).reset_index()\n",
        "print(MostOrderedPizza)\n"
      ],
      "metadata": {
        "colab": {
          "base_uri": "https://localhost:8080/"
        },
        "id": "NHNpTHTc3TK6",
        "outputId": "20dfb487-fe66-47e3-d822-0c03f9f0676d"
      },
      "execution_count": 13,
      "outputs": [
        {
          "output_type": "stream",
          "name": "stdout",
          "text": [
            "    unit_price  count\n",
            "0        20.75    110\n",
            "1        12.00     56\n",
            "2        16.00     44\n",
            "3        16.50     39\n",
            "4        12.50     38\n",
            "5        16.75     36\n",
            "6        20.25     33\n",
            "7        12.75     27\n",
            "8        20.50     21\n",
            "9        18.50     17\n",
            "10       17.95     11\n",
            "11        9.75      9\n",
            "12       16.25      9\n",
            "13       15.25      9\n",
            "14       10.50      7\n",
            "15       14.75      6\n",
            "16       11.00      6\n",
            "17       25.50      6\n",
            "18       13.25      4\n",
            "19       12.25      4\n",
            "20       17.50      3\n",
            "21       21.00      3\n",
            "22       14.50      1\n",
            "23       23.65      1\n"
          ]
        }
      ]
    },
    {
      "cell_type": "code",
      "source": [
        "plt.figure(figsize=(15,8))\n",
        "graph=sns.barplot(x='unit_price',y='count',palette=\"rocket\",data=MostOrderedPizza)\n",
        "graph.set_title('MOST SELLING Pizza')"
      ],
      "metadata": {
        "colab": {
          "base_uri": "https://localhost:8080/",
          "height": 532
        },
        "id": "3JNLO5UH3WyK",
        "outputId": "fd6177ee-a6df-42f6-bf6d-6489fb07e273"
      },
      "execution_count": 14,
      "outputs": [
        {
          "output_type": "execute_result",
          "data": {
            "text/plain": [
              "Text(0.5, 1.0, 'MOST SELLING Pizza')"
            ]
          },
          "metadata": {},
          "execution_count": 14
        },
        {
          "output_type": "display_data",
          "data": {
            "text/plain": [
              "<Figure size 1080x576 with 1 Axes>"
            ],
            "image/png": "[encoded data removed]"
          },
          "metadata": {
            "needs_background": "light"
          }
        }
      ]
    },
    {
      "cell_type": "code",
      "source": [
        "\n",
        "sns.relplot(x='pizza_size', y='total_price', hue='pizza_category', data=df);"
      ],
      "metadata": {
        "id": "2czDRYxM5PXc",
        "outputId": "7418515b-2b95-4ec2-fc1c-59618ca969b1",
        "colab": {
          "base_uri": "https://localhost:8080/",
          "height": 370
        }
      },
      "execution_count": 24,
      "outputs": [
        {
          "output_type": "display_data",
          "data": {
            "text/plain": [
              "<Figure size 442.5x360 with 1 Axes>"
            ],
            "image/png": "[encoded data removed]"
          },
          "metadata": {
            "needs_background": "light"
          }
        }
      ]
    },
    {
      "cell_type": "code",
      "source": [
        "#Plot\n",
        "colors = sns.color_palette('pastel')[0:7]\n",
        "plt.pie(x='count', data=Topcategory,colors = colors);\n"
      ],
      "metadata": {
        "id": "uERkp4Rx50Bm",
        "outputId": "81831e4c-0d8f-441a-f09a-8a7c77ea7372",
        "colab": {
          "base_uri": "https://localhost:8080/",
          "height": 248
        }
      },
      "execution_count": 38,
      "outputs": [
        {
          "output_type": "display_data",
          "data": {
            "text/plain": [
              "<Figure size 432x288 with 1 Axes>"
            ],
            "image/png": "[encoded data removed]"
          },
          "metadata": {}
        }
      ]
    },
    {
      "cell_type": "code",
      "source": [],
      "metadata": {
        "id": "DiVeHqpE6OSO"
      },
      "execution_count": null,
      "outputs": []
    }
  ]
}